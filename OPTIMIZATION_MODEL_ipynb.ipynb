{
  "nbformat": 4,
  "nbformat_minor": 0,
  "metadata": {
    "colab": {
      "provenance": []
    },
    "kernelspec": {
      "name": "python3",
      "display_name": "Python 3"
    },
    "language_info": {
      "name": "python"
    }
  },
  "cells": [
    {
      "cell_type": "code",
      "source": [
        "!pip install pulp\n",
        "import pulp"
      ],
      "metadata": {
        "colab": {
          "base_uri": "https://localhost:8080/"
        },
        "id": "QfVI3VCmtlba",
        "outputId": "f3908f95-95bf-4075-f30e-dd10373d4738"
      },
      "execution_count": 2,
      "outputs": [
        {
          "output_type": "stream",
          "name": "stdout",
          "text": [
            "Collecting pulp\n",
            "  Downloading pulp-3.1.1-py3-none-any.whl.metadata (1.3 kB)\n",
            "Downloading pulp-3.1.1-py3-none-any.whl (16.4 MB)\n",
            "\u001b[2K   \u001b[90m━━━━━━━━━━━━━━━━━━━━━━━━━━━━━━━━━━━━━━━━\u001b[0m \u001b[32m16.4/16.4 MB\u001b[0m \u001b[31m93.1 MB/s\u001b[0m eta \u001b[36m0:00:00\u001b[0m\n",
            "\u001b[?25hInstalling collected packages: pulp\n",
            "Successfully installed pulp-3.1.1\n"
          ]
        }
      ]
    },
    {
      "cell_type": "code",
      "execution_count": 3,
      "metadata": {
        "colab": {
          "base_uri": "https://localhost:8080/"
        },
        "id": "JuqIGXYEtYlG",
        "outputId": "03abd72a-498e-42ea-ae41-536d1ac3951e"
      },
      "outputs": [
        {
          "output_type": "stream",
          "name": "stdout",
          "text": [
            "Status: Optimal\n",
            "Optimal number of Product A to produce: 14.0\n",
            "Optimal number of Product B to produce: 24.0\n",
            "Maximum Profit: $ 1760.0\n"
          ]
        }
      ],
      "source": [
        "import pulp\n",
        "\n",
        "# Define the optimization problem\n",
        "model = pulp.LpProblem(\"Product_Mix_Optimization\", pulp.LpMaximize)\n",
        "\n",
        "# Decision variables: Product A and Product B\n",
        "x = pulp.LpVariable('Product_A', lowBound=0, cat='Continuous')\n",
        "y = pulp.LpVariable('Product_B', lowBound=0, cat='Continuous')\n",
        "\n",
        "# Objective function: Maximize profit\n",
        "model += 40 * x + 50 * y, \"Total_Profit\"\n",
        "\n",
        "# Constraints\n",
        "model += 2 * x + 3 * y <= 100, \"Labor_Constraint\"\n",
        "model += 3 * x + 2 * y <= 90, \"Material_Constraint\"\n",
        "\n",
        "# Solve the problem\n",
        "model.solve()\n",
        "\n",
        "# Output the results\n",
        "print(\"Status:\", pulp.LpStatus[model.status])\n",
        "print(\"Optimal number of Product A to produce:\", x.varValue)\n",
        "print(\"Optimal number of Product B to produce:\", y.varValue)\n",
        "print(\"Maximum Profit: $\", pulp.value(model.objective))\n"
      ]
    }
  ]
}